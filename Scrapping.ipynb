{
  "nbformat": 4,
  "nbformat_minor": 0,
  "metadata": {
    "colab": {
      "provenance": [],
      "collapsed_sections": [],
      "include_colab_link": true
    },
    "kernelspec": {
      "name": "python3",
      "display_name": "Python 3"
    },
    "language_info": {
      "name": "python"
    }
  },
  "cells": [
    {
      "cell_type": "markdown",
      "metadata": {
        "id": "view-in-github",
        "colab_type": "text"
      },
      "source": [
        "<a href=\"https://colab.research.google.com/github/MedAmineKhbour/MedAmineKhbour/blob/main/Scrapping.ipynb\" target=\"_parent\"><img src=\"https://colab.research.google.com/assets/colab-badge.svg\" alt=\"Open In Colab\"/></a>"
      ]
    },
    {
      "cell_type": "code",
      "execution_count": null,
      "metadata": {
        "colab": {
          "base_uri": "https://localhost:8080/"
        },
        "id": "RHpicG3zlTIb",
        "outputId": "c97b4453-9f8f-415d-9835-267f06d103ab"
      },
      "outputs": [
        {
          "output_type": "stream",
          "name": "stdout",
          "text": [
            "[{'brand': 'dmc', 'name': 'natura xl', 'url': 'https://www.wollplatz.de/wolle/dmc/dmc-natura-xl'}, {'brand': 'drops', 'name': 'safran', 'url': 'https://www.wollplatz.de/wolle/drops/drops-safran'}, {'brand': 'drops', 'name': 'Baby Merino Mix', 'url': 'https://www.wollplatz.de/wolle/drops/drops-Baby-Merino-Mix'}, {'brand': 'Hahn', 'name': 'Alpacca Speciale', 'url': 'https://www.wollplatz.de/wolle/Hahn/Hahn-Alpacca-Speciale'}, {'brand': 'Stylecraft', 'name': 'Special double knit', 'url': 'https://www.wollplatz.de/wolle/Stylecraft/Stylecraft-Special-double-knit'}]\n"
          ]
        }
      ],
      "source": [
        "products = [{\"brand\":\"dmc\",\"name\":\"natura xl\"},\n",
        "           {\"brand\":\"drops\",\"name\":\"safran\"},\n",
        "           {\"brand\":\"drops\",\"name\":\"Baby Merino Mix\"},\n",
        "           {\"brand\":\"Hahn\",\"name\":\"Alpacca Speciale\"},\n",
        "           {\"brand\":\"Stylecraft\",\"name\":\"Special double knit\"}]\n",
        "\n",
        "\n",
        "\n",
        "#brand= input(\"Pleace add the Wool brand: \")\n",
        "#name= input(\"Pleace add the Wool name: \")\n",
        "for product in products:\n",
        "  Sname = product[\"name\"]\n",
        "  brand = product[\"brand\"]\n",
        "  Sname = Sname.replace(' ','-')\n",
        "\n",
        "  url = (\"https://www.wollplatz.de/wolle/\"+brand+\"/\"+brand+\"-\"+Sname)\n",
        "  product['url'] = url\n",
        "print(products)"
      ]
    },
    {
      "cell_type": "code",
      "source": [
        "!pip install bs4\n",
        "!pip install requests"
      ],
      "metadata": {
        "colab": {
          "base_uri": "https://localhost:8080/"
        },
        "id": "Hkn3fbBNmEQI",
        "outputId": "740f9836-a5e5-40a4-ce33-2578a769a210"
      },
      "execution_count": null,
      "outputs": [
        {
          "output_type": "stream",
          "name": "stdout",
          "text": [
            "Looking in indexes: https://pypi.org/simple, https://us-python.pkg.dev/colab-wheels/public/simple/\n",
            "Requirement already satisfied: bs4 in /usr/local/lib/python3.7/dist-packages (0.0.1)\n",
            "Requirement already satisfied: beautifulsoup4 in /usr/local/lib/python3.7/dist-packages (from bs4) (4.6.3)\n",
            "Looking in indexes: https://pypi.org/simple, https://us-python.pkg.dev/colab-wheels/public/simple/\n",
            "Requirement already satisfied: requests in /usr/local/lib/python3.7/dist-packages (2.23.0)\n",
            "Requirement already satisfied: certifi>=2017.4.17 in /usr/local/lib/python3.7/dist-packages (from requests) (2022.6.15)\n",
            "Requirement already satisfied: chardet<4,>=3.0.2 in /usr/local/lib/python3.7/dist-packages (from requests) (3.0.4)\n",
            "Requirement already satisfied: idna<3,>=2.5 in /usr/local/lib/python3.7/dist-packages (from requests) (2.10)\n",
            "Requirement already satisfied: urllib3!=1.25.0,!=1.25.1,<1.26,>=1.21.1 in /usr/local/lib/python3.7/dist-packages (from requests) (1.24.3)\n"
          ]
        }
      ]
    },
    {
      "cell_type": "code",
      "source": [
        "import requests\n",
        "from bs4 import BeautifulSoup\n",
        "\n",
        "headers = {\"user-agent\":\"Mozilla/5.0 (Windows NT 10.0; Win64; x64) AppleWebKit/537.36 (KHTML, like Gecko) Chrome/105.0.0.0 Safari/537.36 Edg/105.0.1343.27\"}\n",
        "import os\n",
        "with open('Result.txt', 'w') as writefile:\n",
        "  for product in products:\n",
        "    url= product['url']\n",
        "    page_1 = requests.get(url, headers=headers) \n",
        "    writefile.write(f\"{product['brand']} {product['name']} : \\n\")\n",
        "    if page_1.status_code == 404 :\n",
        "      writefile.write(\"Product does not exist \\n \\n\")\n",
        "    else :\n",
        "      soup_1 = BeautifulSoup(page_1.content,'lxml') \n",
        "      title_1 = soup_1.find(id = 'pageheadertitle')\n",
        "      text_1 = title_1.get_text() \n",
        "      product_title_1 = text_1.strip() \n",
        "      price = soup_1.find(id=\"ContentPlaceHolder1_upPricePanel\")\n",
        "      price = price.get_text() # Will get text from html tags\n",
        "      price= price.replace(\" \", \"\") # cleaning result\n",
        "      price= price.replace('Inkl.MwStzzgl.Versandkosten', '') # cleaning result\n",
        "      website1_product_price = price.strip() # Removing special characters like \\n (newline)\n",
        "      availability = soup_1.find(id=\"ContentPlaceHolder1_upStockInfoDescription\")\n",
        "      availability = availability.get_text() # Will get text from html tags\n",
        "      website1_product_availability = availability.strip() # Removing special characters like \\n (newline)\n",
        "      size = soup_1.find(\"td\", text=\"Nadelstärke\").find_next_sibling(\"td\").text\n",
        "      website1_product_size = size.strip() # Removing special characters like \\n (newline)\n",
        "      comp = soup_1.find(\"td\", text=\"Zusammenstellung\").find_next_sibling(\"td\").text\n",
        "      website1_product_comp= comp.strip() # Removing special characters like \\n (newline)\n",
        "\n",
        "      Result = (\"\\n Product Name: \"+ product_title_1+\"\\n Price: \"+ website1_product_price+\"\\n Availability: \"+website1_product_availability+\"\\n Size: \"+ website1_product_size+\"\\n Composition: \"+website1_product_comp+\"\\n\")\n",
        "      writefile.write(Result)\n",
        "    writefile.write('------------------------------------------------------------------------\\n')\n",
        "    \n",
        "        \n",
        "\n",
        "with open('Result.txt', 'r') as testwritefile:\n",
        "    print(testwritefile.read())\n",
        "  "
      ],
      "metadata": {
        "colab": {
          "base_uri": "https://localhost:8080/"
        },
        "id": "r1SORzfkli0d",
        "outputId": "385d2357-a53c-4b32-f7f0-3b1df591d385"
      },
      "execution_count": null,
      "outputs": [
        {
          "output_type": "stream",
          "name": "stdout",
          "text": [
            "dmc natura xl : \n",
            "\n",
            " Product Name: DMC Natura XL 02 Black\n",
            " Price: €3,38\n",
            " Availability: Begrenzter Vorrat: 1\n",
            " Size: 8 mm\n",
            " Composition: 100% Baumwolle\n",
            "------------------------------------------------------------------------\n",
            "drops safran : \n",
            "\n",
            " Product Name: Drops Safran 1 Light-pink\n",
            " Price: €1,08\n",
            " Availability: Lieferbar\n",
            " Size: 3 mm\n",
            " Composition: 100% Baumwolle\n",
            "------------------------------------------------------------------------\n",
            "drops Baby Merino Mix : \n",
            "\n",
            " Product Name: Drops Baby Merino Mix 17 Beige\n",
            " Price: €2,33\n",
            " Availability: Halten Sie mich auf dem Laufenden Senden Sie mir eine E-Mail, wenn das Produkt verfügbar ist\n",
            "Senden\n",
            " Size: 3 mm\n",
            " Composition: 100% Merinowolle\n",
            "------------------------------------------------------------------------\n",
            "Hahn Alpacca Speciale : \n",
            "Product does not exist \n",
            " \n",
            "------------------------------------------------------------------------\n",
            "Stylecraft Special double knit : \n",
            "Product does not exist \n",
            " \n",
            "------------------------------------------------------------------------\n",
            "\n"
          ]
        }
      ]
    },
    {
      "cell_type": "code",
      "source": [],
      "metadata": {
        "id": "LZh4osmtmgc9"
      },
      "execution_count": null,
      "outputs": []
    }
  ]
}